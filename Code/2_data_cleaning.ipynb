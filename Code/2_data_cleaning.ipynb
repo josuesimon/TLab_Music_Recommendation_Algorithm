{
 "cells": [
  {
   "cell_type": "code",
   "execution_count": 2,
   "metadata": {},
   "outputs": [],
   "source": [
    "# We will start off by importing our necessary items and also create a path where the data will be pulling from and eventually storing data\n",
    "import numpy as np\n",
    "import matplotlib.pyplot as plt\n",
    "import seaborn as sns\n",
    "import os\n",
    "import re\n",
    "import logging\n",
    "import pandas as pd\n",
    "\n",
    "\n",
    "FILE_PATH = \"../Data/Train.csv\"\n",
    "OUTPUT_PATH = \"../Data/2_cleaned_songs_dataset.csv\"\n",
    "IMAGE_DIR = \"../images\"\n",
    "DROP_COLUMNS = [\"age\", \"len\"] \n",
    "\n",
    "logging.basicConfig(level=logging.INFO, format=\"%(asctime)s - %(levelname)s - %(message)s\")"
   ]
  },
  {
   "cell_type": "code",
   "execution_count": 3,
   "metadata": {},
   "outputs": [],
   "source": [
    "\n",
    "# We will create this function to sanitize the data values against special characters that some titles might have\n",
    "def sanitize_data_values(df):\n",
    "    for column in df.select_dtypes(include=['object']).columns: \n",
    "        df[column] = df[column].apply(lambda x: re.sub(r'[^a-zA-Z0-9_ ]', '', x))  \n",
    "    return df\n",
    "\n",
    "# We will be creating a function called clean_data that will be helping us perform data cleaning on the dataset.\n",
    "def clean_data():\n",
    "    df = pd.read_csv(FILE_PATH)\n",
    "    print(f\"The initial shape: {df.shape}\")\n",
    "\n",
    "    df = sanitize_data_values(df)\n",
    "\n",
    "    # We will drop the unwanted missing values and duplicates\n",
    "    df.dropna(inplace=True)\n",
    "    df.drop_duplicates(inplace=True)\n",
    "    print(f\"The shape after dropping missing values and duplicates: {df.shape}\")\n",
    "\n",
    "\n",
    "    # We will create and save boxplots for 'len' and 'age' before dropping them\n",
    "    for i, column in enumerate(DROP_COLUMNS, start=1):\n",
    "        if column in df.columns:\n",
    "            plt.figure(figsize=(10, 6))\n",
    "            sns.boxplot(x=df[column])\n",
    "            plt.title(f\"Boxplot of '{column}'\")\n",
    "            plt.tight_layout()\n",
    "            plt.savefig(f\"{IMAGE_DIR}/2.{i}_boxplot_{column}.png\")\n",
    "            plt.close()\n",
    "\n",
    "    # We will drop the specified columns mentioned earlier\n",
    "    df.drop(columns=DROP_COLUMNS, inplace=True, errors=\"ignore\")\n",
    "    print(f\"The dropped columns: {DROP_COLUMNS}\")\n",
    "\n",
    "    # We will plot final distributions after cleaning for the remaining columns\n",
    "    remaining_columns = df.columns \n",
    "    for i, column in enumerate(remaining_columns, start=1):\n",
    "        plt.figure(figsize=(10, 6))\n",
    "        sns.histplot(df[column], bins=30, kde=True)\n",
    "        plt.title(f\"Final Distribution of '{column}' (After Cleaning)\")\n",
    "        plt.xlabel(column)\n",
    "        plt.ylabel(\"Frequency\")\n",
    "        plt.tight_layout()\n",
    "        plt.savefig(f\"{IMAGE_DIR}/2.{i+2}_final_distribution_{column}.png\") \n",
    "        plt.close()\n",
    "\n",
    "    # We will save the cleaned dataset\n",
    "    df.to_csv(OUTPUT_PATH, index=False)\n",
    "    print(f\"The cleaned file has been saved to: {OUTPUT_PATH}\")\n",
    "    print(f\"The final shape is as follows: {df.shape}\")\n"
   ]
  },
  {
   "cell_type": "code",
   "execution_count": null,
   "metadata": {},
   "outputs": [
    {
     "name": "stdout",
     "output_type": "stream",
     "text": [
      "The initial shape: (28362, 24)\n",
      "The shape after dropping missing values and duplicates: (28362, 24)\n",
      "The dropped columns: ['age', 'len']\n"
     ]
    }
   ],
   "source": [
    "if __name__ == \"__main__\":\n",
    "    clean_data()"
   ]
  }
 ],
 "metadata": {
  "kernelspec": {
   "display_name": "base",
   "language": "python",
   "name": "python3"
  },
  "language_info": {
   "codemirror_mode": {
    "name": "ipython",
    "version": 3
   },
   "file_extension": ".py",
   "mimetype": "text/x-python",
   "name": "python",
   "nbconvert_exporter": "python",
   "pygments_lexer": "ipython3",
   "version": "3.12.7"
  }
 },
 "nbformat": 4,
 "nbformat_minor": 2
}
